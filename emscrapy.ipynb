{
 "cells": [
  {
   "cell_type": "code",
   "execution_count": 1,
   "metadata": {},
   "outputs": [],
   "source": [
    "import csv\n",
    "import os\n",
    "import sys\n",
    "from getpass import getpass\n",
    "\n",
    "from bs4 import BeautifulSoup\n",
    "from selenium import webdriver\n",
    "from selenium.webdriver.chrome.options import Options\n",
    "from selenium.webdriver.common.by import By"
   ]
  },
  {
   "cell_type": "code",
   "execution_count": 2,
   "metadata": {},
   "outputs": [],
   "source": [
    "# Create CSV\n",
    "csv_file = \"industry.csv\"\n",
    "if os.path.exists(csv_file):\n",
    "    print(\"File already exists\")\n",
    "else:\n",
    "    header = [\"company\", \"industry\", \"URL\"]\n",
    "    with open(\"industry.csv\", \"a+\", newline=\"\", encoding=\"UTF8\") as industry_csv:\n",
    "        writer = csv.writer(industry_csv)\n",
    "        writer.writerow(header)"
   ]
  },
  {
   "cell_type": "code",
   "execution_count": 3,
   "metadata": {},
   "outputs": [],
   "source": [
    "# Make window headless\n",
    "Options = Options()\n",
    "Options.headless = True\n",
    "Options.add_argument(\"--log-level=3\")"
   ]
  },
  {
   "cell_type": "code",
   "execution_count": 4,
   "metadata": {},
   "outputs": [
    {
     "name": "stderr",
     "output_type": "stream",
     "text": [
      "C:\\Users\\Jodis\\AppData\\Local\\Temp\\ipykernel_1320\\2322166919.py:7: DeprecationWarning: executable_path has been deprecated, please pass in a Service object\n",
      "  driver = webdriver.Chrome(\"drivers/win32_chromedriver.exe\", options=Options)\n"
     ]
    }
   ],
   "source": [
    "# Create webdriver instance\n",
    "if sys.platform.startswith(\"linux\"):\n",
    "    driver = webdriver.Chrome(\"drivers/linux_chromedriver\", options=Options)\n",
    "elif sys.platform.startswith(\"darwin\"):\n",
    "    driver = webdriver.Chrome(\"drivers/mac_chromedriver\", options=Options)\n",
    "elif sys.platform.startswith(\"win32\"):\n",
    "    driver = webdriver.Chrome(\"drivers/win32_chromedriver.exe\", options=Options)"
   ]
  },
  {
   "cell_type": "code",
   "execution_count": 5,
   "metadata": {},
   "outputs": [],
   "source": [
    "# Open linkedin\n",
    "driver.get(\"https://linkedin.com/uas/login\")"
   ]
  },
  {
   "cell_type": "code",
   "execution_count": 6,
   "metadata": {},
   "outputs": [
    {
     "name": "stdin",
     "output_type": "stream",
     "text": [
      "Enter your username:  jodis.fields@outlook.com\n"
     ]
    }
   ],
   "source": [
    "# Find username field and prompt for input\n",
    "username = driver.find_element(by=By.ID, value=\"username\")\n",
    "if sys.platform.startswith(\"linux\"):\n",
    "    os.system('clear')\n",
    "elif sys.platform.startswith(\"darwin\"):\n",
    "    os.system('clear')\n",
    "elif sys.platform.startswith(\"win32\"):\n",
    "    os.system('cls')\n",
    "username.send_keys(input(\"Enter your username: \"))"
   ]
  },
  {
   "cell_type": "code",
   "execution_count": 7,
   "metadata": {},
   "outputs": [
    {
     "name": "stdin",
     "output_type": "stream",
     "text": [
      "Enter your password:  ········\n"
     ]
    }
   ],
   "source": [
    "# Find password field and prompt for input\n",
    "pword = driver.find_element(by=By.ID, value=\"password\")\n",
    "if sys.platform.startswith(\"linux\"):\n",
    "    os.system('clear')\n",
    "elif sys.platform.startswith(\"darwin\"):\n",
    "    os.system('clear')\n",
    "elif sys.platform.startswith(\"win32\"):\n",
    "    os.system('cls')\n",
    "pword.send_keys(getpass(\"Enter your password: \"))"
   ]
  },
  {
   "cell_type": "code",
   "execution_count": 8,
   "metadata": {},
   "outputs": [],
   "source": [
    "# Login to linkedin\n",
    "driver.find_element(by=By.XPATH, value=\"//button[@type='submit']\").click()\n",
    "if sys.platform.startswith(\"linux\"):\n",
    "    os.system('clear')\n",
    "elif sys.platform.startswith(\"darwin\"):\n",
    "    os.system('clear')\n",
    "elif sys.platform.startswith(\"win32\"):\n",
    "    os.system('cls')"
   ]
  },
  {
   "cell_type": "code",
   "execution_count": 9,
   "metadata": {},
   "outputs": [
    {
     "name": "stdout",
     "output_type": "stream",
     "text": [
      "Fetching Results...\n",
      "Transportation, Logistics, Supply Chain and Storage\n",
      "Retail\n",
      "Retail\n",
      "Computers and Electronics Manufacturing\n",
      "IT Services and IT Consulting\n",
      "IT Services and IT Consulting\n",
      "Computers and Electronics Manufacturing\n",
      "Retail\n",
      "Retail\n",
      "Computers and Electronics Manufacturing\n",
      "IT Services and IT Consulting\n"
     ]
    }
   ],
   "source": [
    "# Read mock customer data from file (replace with real customer data later)\n",
    "with open(\"customer_db.csv\", \"r\") as customer_db:\n",
    "    customer_data = csv.reader(customer_db)\n",
    "    print(\"Fetching Results...\")\n",
    "    for row in customer_data:\n",
    "        name = row[1]\n",
    "        email = row[2]\n",
    "        company = row[3]\n",
    "\n",
    "        # Create search query for each customers company\n",
    "        query_url = f\"https://www.linkedin.com/company/{company}/about/\"\n",
    "\n",
    "        # Fetch the industry of each company from linkedin\n",
    "        driver.get(query_url)\n",
    "\n",
    "        # Get page source code\n",
    "        src = driver.page_source\n",
    "\n",
    "        # Parse page source code\n",
    "        soup = BeautifulSoup(src, \"lxml\")\n",
    "\n",
    "        # Find the industry of the company\n",
    "        industry_tag = soup.find(\"section\", {\"class\": \"artdeco-card p5 mb4\"})\n",
    "        industry = industry_tag.find_all_next(\n",
    "            \"dd\", {\"class\": \"mb4 text-body-small t-black--light\"}\n",
    "        )\n",
    "        industry = industry[1].get_text().strip()\n",
    "        print(industry)\n",
    "\n",
    "        # Write the industry to csv\n",
    "        with open(\"industry.csv\", \"a+\", newline=\"\", encoding=\"UTF8\") as industry_csv:\n",
    "            writer = csv.writer(industry_csv)\n",
    "            writer.writerow([company, industry, query_url])"
   ]
  },
  {
   "cell_type": "code",
   "execution_count": 10,
   "metadata": {},
   "outputs": [
    {
     "name": "stdout",
     "output_type": "stream",
     "text": [
      "All Done!\n"
     ]
    }
   ],
   "source": [
    "# Success message\n",
    "print(\"All Done!\")"
   ]
  }
 ],
 "metadata": {
  "kernelspec": {
   "display_name": "Python 3 (ipykernel)",
   "language": "python",
   "name": "python3"
  },
  "language_info": {
   "codemirror_mode": {
    "name": "ipython",
    "version": 3
   },
   "file_extension": ".py",
   "mimetype": "text/x-python",
   "name": "python",
   "nbconvert_exporter": "python",
   "pygments_lexer": "ipython3",
   "version": "3.9.7"
  },
  "vscode": {
   "interpreter": {
    "hash": "ff9d19ebc32e3a0b60adc46565cc7bc21f909d2a5202ff47a46abff92532bb56"
   }
  }
 },
 "nbformat": 4,
 "nbformat_minor": 4
}
